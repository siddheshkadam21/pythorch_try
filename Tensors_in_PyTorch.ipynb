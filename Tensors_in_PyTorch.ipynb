{
 "cells": [
  {
   "cell_type": "markdown",
   "metadata": {},
   "source": [
    "#### Importing Libraries\n",
    "- torch\n",
    "- numpy"
   ]
  },
  {
   "cell_type": "code",
   "execution_count": 54,
   "metadata": {},
   "outputs": [],
   "source": [
    "import torch \n",
    "import numpy as np"
   ]
  },
  {
   "cell_type": "markdown",
   "metadata": {},
   "source": [
    "- Checking for cuda"
   ]
  },
  {
   "cell_type": "code",
   "execution_count": 55,
   "metadata": {},
   "outputs": [
    {
     "data": {
      "text/plain": [
       "True"
      ]
     },
     "execution_count": 55,
     "metadata": {},
     "output_type": "execute_result"
    }
   ],
   "source": [
    "torch.cuda.is_available()"
   ]
  },
  {
   "cell_type": "markdown",
   "metadata": {},
   "source": [
    "- Check GPU"
   ]
  },
  {
   "cell_type": "code",
   "execution_count": 56,
   "metadata": {},
   "outputs": [
    {
     "name": "stdout",
     "output_type": "stream",
     "text": [
      "Tue Jun 15 19:25:37 2021       \n",
      "+-----------------------------------------------------------------------------+\n",
      "| NVIDIA-SMI 452.56       Driver Version: 452.56       CUDA Version: 11.0     |\n",
      "|-------------------------------+----------------------+----------------------+\n",
      "| GPU  Name            TCC/WDDM | Bus-Id        Disp.A | Volatile Uncorr. ECC |\n",
      "| Fan  Temp  Perf  Pwr:Usage/Cap|         Memory-Usage | GPU-Util  Compute M. |\n",
      "|                               |                      |               MIG M. |\n",
      "|===============================+======================+======================|\n",
      "|   0  GeForce MX350      WDDM  | 00000000:30:00.0 Off |                  N/A |\n",
      "| N/A   46C    P8    N/A /  N/A |    467MiB /  2048MiB |      0%      Default |\n",
      "|                               |                      |                  N/A |\n",
      "+-------------------------------+----------------------+----------------------+\n",
      "                                                                               \n",
      "+-----------------------------------------------------------------------------+\n",
      "| Processes:                                                                  |\n",
      "|  GPU   GI   CI        PID   Type   Process name                  GPU Memory |\n",
      "|        ID   ID                                                   Usage      |\n",
      "|=============================================================================|\n",
      "|    0   N/A  N/A      2836    C+G   ...5n1h2txyewy\\SearchApp.exe    N/A      |\n",
      "|    0   N/A  N/A      4056    C+G   Insufficient Permissions        N/A      |\n",
      "|    0   N/A  N/A      4088    C+G   ...artMenuExperienceHost.exe    N/A      |\n",
      "|    0   N/A  N/A      9260    C+G   ...ekyb3d8bbwe\\commsapps.exe    N/A      |\n",
      "|    0   N/A  N/A     10276    C+G   ...ekyb3d8bbwe\\YourPhone.exe    N/A      |\n",
      "|    0   N/A  N/A     10548    C+G   ...nputApp\\TextInputHost.exe    N/A      |\n",
      "|    0   N/A  N/A     10964    C+G   ...kyb3d8bbwe\\Calculator.exe    N/A      |\n",
      "|    0   N/A  N/A     14524      C   ...Data\\Anaconda3\\python.exe    N/A      |\n",
      "+-----------------------------------------------------------------------------+\n"
     ]
    }
   ],
   "source": [
    "!nvidia-smi"
   ]
  },
  {
   "cell_type": "markdown",
   "metadata": {},
   "source": [
    "#### Create list\n",
    "- list of list"
   ]
  },
  {
   "cell_type": "code",
   "execution_count": 57,
   "metadata": {},
   "outputs": [],
   "source": [
    "some_data=[[1,2],[3,4]]"
   ]
  },
  {
   "cell_type": "code",
   "execution_count": 58,
   "metadata": {},
   "outputs": [
    {
     "data": {
      "text/plain": [
       "[[1, 2], [3, 4]]"
      ]
     },
     "execution_count": 58,
     "metadata": {},
     "output_type": "execute_result"
    }
   ],
   "source": [
    "some_data"
   ]
  },
  {
   "cell_type": "markdown",
   "metadata": {},
   "source": [
    "#### Check type \n",
    "- list"
   ]
  },
  {
   "cell_type": "code",
   "execution_count": 59,
   "metadata": {},
   "outputs": [
    {
     "data": {
      "text/plain": [
       "list"
      ]
     },
     "execution_count": 59,
     "metadata": {},
     "output_type": "execute_result"
    }
   ],
   "source": [
    "type(some_data)"
   ]
  },
  {
   "cell_type": "markdown",
   "metadata": {},
   "source": [
    "#### Create or convert to numpy arrray\n",
    "- np.array\n",
    "- asarray\n",
    "- both gives same result"
   ]
  },
  {
   "cell_type": "code",
   "execution_count": 60,
   "metadata": {},
   "outputs": [
    {
     "data": {
      "text/plain": [
       "array([[1, 2],\n",
       "       [3, 4]])"
      ]
     },
     "execution_count": 60,
     "metadata": {},
     "output_type": "execute_result"
    }
   ],
   "source": [
    "np.array(some_data)"
   ]
  },
  {
   "cell_type": "code",
   "execution_count": 61,
   "metadata": {},
   "outputs": [
    {
     "data": {
      "text/plain": [
       "array([[1, 2],\n",
       "       [3, 4]])"
      ]
     },
     "execution_count": 61,
     "metadata": {},
     "output_type": "execute_result"
    }
   ],
   "source": [
    "np.asarray(some_data)"
   ]
  },
  {
   "cell_type": "markdown",
   "metadata": {},
   "source": [
    "#### Convert to tensor\n",
    "- from numpy array to tensor"
   ]
  },
  {
   "cell_type": "code",
   "execution_count": 62,
   "metadata": {},
   "outputs": [],
   "source": [
    "some_data=torch.tensor(some_data)"
   ]
  },
  {
   "cell_type": "markdown",
   "metadata": {},
   "source": [
    "#### check type of array\n",
    "- torch.Tensor"
   ]
  },
  {
   "cell_type": "code",
   "execution_count": 63,
   "metadata": {},
   "outputs": [
    {
     "data": {
      "text/plain": [
       "torch.Tensor"
      ]
     },
     "execution_count": 63,
     "metadata": {},
     "output_type": "execute_result"
    }
   ],
   "source": [
    "type(some_data)"
   ]
  },
  {
   "cell_type": "markdown",
   "metadata": {},
   "source": [
    "#### check data type of array\n",
    "- torch.int64"
   ]
  },
  {
   "cell_type": "code",
   "execution_count": 64,
   "metadata": {},
   "outputs": [
    {
     "data": {
      "text/plain": [
       "torch.int64"
      ]
     },
     "execution_count": 64,
     "metadata": {},
     "output_type": "execute_result"
    }
   ],
   "source": [
    "some_data.dtype"
   ]
  },
  {
   "cell_type": "markdown",
   "metadata": {},
   "source": [
    "#### Generate random array"
   ]
  },
  {
   "cell_type": "code",
   "execution_count": 65,
   "metadata": {},
   "outputs": [],
   "source": [
    "#  numpy array to torch\n",
    "numpy_array=np.random.rand(3,4)"
   ]
  },
  {
   "cell_type": "code",
   "execution_count": 66,
   "metadata": {},
   "outputs": [
    {
     "data": {
      "text/plain": [
       "array([[0.77438552, 0.85337217, 0.38099638, 0.63218279],\n",
       "       [0.00210916, 0.21594631, 0.28296344, 0.15746233],\n",
       "       [0.90241125, 0.68210277, 0.32532491, 0.09033522]])"
      ]
     },
     "execution_count": 66,
     "metadata": {},
     "output_type": "execute_result"
    }
   ],
   "source": [
    "numpy_array"
   ]
  },
  {
   "cell_type": "markdown",
   "metadata": {},
   "source": [
    "#### Convert array to torch\n",
    "- no_from\n",
    "- from_numpy"
   ]
  },
  {
   "cell_type": "raw",
   "metadata": {},
   "source": [
    "torch.no_from(numpy_array)"
   ]
  },
  {
   "cell_type": "code",
   "execution_count": 67,
   "metadata": {},
   "outputs": [
    {
     "data": {
      "text/plain": [
       "tensor([[0.7744, 0.8534, 0.3810, 0.6322],\n",
       "        [0.0021, 0.2159, 0.2830, 0.1575],\n",
       "        [0.9024, 0.6821, 0.3253, 0.0903]], dtype=torch.float64)"
      ]
     },
     "execution_count": 67,
     "metadata": {},
     "output_type": "execute_result"
    }
   ],
   "source": [
    "torch.from_numpy(numpy_array)"
   ]
  },
  {
   "cell_type": "markdown",
   "metadata": {},
   "source": [
    "- Converting to tensors "
   ]
  },
  {
   "cell_type": "code",
   "execution_count": 68,
   "metadata": {},
   "outputs": [
    {
     "data": {
      "text/plain": [
       "tensor([[0.7744, 0.8534, 0.3810, 0.6322],\n",
       "        [0.0021, 0.2159, 0.2830, 0.1575],\n",
       "        [0.9024, 0.6821, 0.3253, 0.0903]], dtype=torch.float64)"
      ]
     },
     "execution_count": 68,
     "metadata": {},
     "output_type": "execute_result"
    }
   ],
   "source": [
    "torch.tensor(numpy_array)"
   ]
  },
  {
   "cell_type": "markdown",
   "metadata": {},
   "source": [
    "#### Generate tensord of ones\n",
    "- torch.ones\n"
   ]
  },
  {
   "cell_type": "code",
   "execution_count": 69,
   "metadata": {},
   "outputs": [
    {
     "data": {
      "text/plain": [
       "tensor([[1., 1., 1., 1.],\n",
       "        [1., 1., 1., 1.],\n",
       "        [1., 1., 1., 1.]])"
      ]
     },
     "execution_count": 69,
     "metadata": {},
     "output_type": "execute_result"
    }
   ],
   "source": [
    "torch.ones(3,4)"
   ]
  },
  {
   "cell_type": "markdown",
   "metadata": {},
   "source": [
    "- torch.ones"
   ]
  },
  {
   "cell_type": "code",
   "execution_count": 70,
   "metadata": {},
   "outputs": [
    {
     "data": {
      "text/plain": [
       "tensor([[0., 0., 0., 0.],\n",
       "        [0., 0., 0., 0.],\n",
       "        [0., 0., 0., 0.]])"
      ]
     },
     "execution_count": 70,
     "metadata": {},
     "output_type": "execute_result"
    }
   ],
   "source": [
    "torch.zeros(3,4)"
   ]
  },
  {
   "cell_type": "markdown",
   "metadata": {},
   "source": [
    "#### Generate tensord randomly\n",
    "- torch.rand"
   ]
  },
  {
   "cell_type": "code",
   "execution_count": 71,
   "metadata": {},
   "outputs": [],
   "source": [
    "my_tensor=torch.rand(3,4)"
   ]
  },
  {
   "cell_type": "code",
   "execution_count": 72,
   "metadata": {},
   "outputs": [
    {
     "data": {
      "text/plain": [
       "tensor([[0.1145, 0.6827, 0.3909, 0.7687],\n",
       "        [0.8610, 0.6682, 0.7992, 0.3501],\n",
       "        [0.2820, 0.1723, 0.9610, 0.1428]])"
      ]
     },
     "execution_count": 72,
     "metadata": {},
     "output_type": "execute_result"
    }
   ],
   "source": [
    "my_tensor"
   ]
  },
  {
   "cell_type": "markdown",
   "metadata": {},
   "source": [
    "#### Data type of tensor"
   ]
  },
  {
   "cell_type": "code",
   "execution_count": 73,
   "metadata": {},
   "outputs": [
    {
     "data": {
      "text/plain": [
       "torch.float32"
      ]
     },
     "execution_count": 73,
     "metadata": {},
     "output_type": "execute_result"
    }
   ],
   "source": [
    "my_tensor.dtype"
   ]
  },
  {
   "cell_type": "markdown",
   "metadata": {},
   "source": [
    "#### Check tensor on which device\n",
    "- CPU"
   ]
  },
  {
   "cell_type": "code",
   "execution_count": 74,
   "metadata": {},
   "outputs": [
    {
     "data": {
      "text/plain": [
       "device(type='cpu')"
      ]
     },
     "execution_count": 74,
     "metadata": {},
     "output_type": "execute_result"
    }
   ],
   "source": [
    "my_tensor.device"
   ]
  },
  {
   "cell_type": "markdown",
   "metadata": {},
   "source": [
    "#### Store tensor to GPU"
   ]
  },
  {
   "cell_type": "code",
   "execution_count": 75,
   "metadata": {},
   "outputs": [
    {
     "data": {
      "text/plain": [
       "tensor([[0.1145, 0.6827, 0.3909, 0.7687],\n",
       "        [0.8610, 0.6682, 0.7992, 0.3501],\n",
       "        [0.2820, 0.1723, 0.9610, 0.1428]], device='cuda:0')"
      ]
     },
     "execution_count": 75,
     "metadata": {},
     "output_type": "execute_result"
    }
   ],
   "source": [
    "my_tensor.to(\"cuda\")"
   ]
  },
  {
   "cell_type": "code",
   "execution_count": 76,
   "metadata": {},
   "outputs": [],
   "source": [
    "#inplace\n",
    "my_tensor=my_tensor.to(\"cuda\")"
   ]
  },
  {
   "cell_type": "code",
   "execution_count": 77,
   "metadata": {},
   "outputs": [
    {
     "data": {
      "text/plain": [
       "tensor([[0.1145, 0.6827, 0.3909, 0.7687],\n",
       "        [0.8610, 0.6682, 0.7992, 0.3501],\n",
       "        [0.2820, 0.1723, 0.9610, 0.1428]], device='cuda:0')"
      ]
     },
     "execution_count": 77,
     "metadata": {},
     "output_type": "execute_result"
    }
   ],
   "source": [
    "my_tensor"
   ]
  },
  {
   "cell_type": "markdown",
   "metadata": {},
   "source": [
    "#### Indexcing on tensor "
   ]
  },
  {
   "cell_type": "code",
   "execution_count": 78,
   "metadata": {},
   "outputs": [
    {
     "data": {
      "text/plain": [
       "tensor([[0.6827, 0.3909],\n",
       "        [0.6682, 0.7992],\n",
       "        [0.1723, 0.9610]], device='cuda:0')"
      ]
     },
     "execution_count": 78,
     "metadata": {},
     "output_type": "execute_result"
    }
   ],
   "source": [
    "my_tensor[:,1:3]"
   ]
  },
  {
   "cell_type": "markdown",
   "metadata": {},
   "source": [
    "#### Multiplication of tensors\n",
    "- mul() function\n",
    "- Using * symbol"
   ]
  },
  {
   "cell_type": "code",
   "execution_count": 79,
   "metadata": {},
   "outputs": [
    {
     "data": {
      "text/plain": [
       "tensor([[0.0131, 0.4661, 0.1528, 0.5909],\n",
       "        [0.7413, 0.4465, 0.6387, 0.1226],\n",
       "        [0.0795, 0.0297, 0.9235, 0.0204]], device='cuda:0')"
      ]
     },
     "execution_count": 79,
     "metadata": {},
     "output_type": "execute_result"
    }
   ],
   "source": [
    "my_tensor.mul(my_tensor)"
   ]
  },
  {
   "cell_type": "code",
   "execution_count": 80,
   "metadata": {},
   "outputs": [
    {
     "data": {
      "text/plain": [
       "tensor([[0.0131, 0.4661, 0.1528, 0.5909],\n",
       "        [0.7413, 0.4465, 0.6387, 0.1226],\n",
       "        [0.0795, 0.0297, 0.9235, 0.0204]], device='cuda:0')"
      ]
     },
     "execution_count": 80,
     "metadata": {},
     "output_type": "execute_result"
    }
   ],
   "source": [
    "my_tensor*my_tensor"
   ]
  },
  {
   "cell_type": "markdown",
   "metadata": {},
   "source": [
    "#### Matrix multiplication"
   ]
  },
  {
   "cell_type": "code",
   "execution_count": 81,
   "metadata": {},
   "outputs": [
    {
     "data": {
      "text/plain": [
       "tensor([[1.2229, 1.1363, 0.6354],\n",
       "        [1.1363, 1.9491, 1.1760],\n",
       "        [0.6354, 1.1760, 1.0532]], device='cuda:0')"
      ]
     },
     "execution_count": 81,
     "metadata": {},
     "output_type": "execute_result"
    }
   ],
   "source": [
    "my_tensor.matmul(my_tensor.T)"
   ]
  },
  {
   "cell_type": "markdown",
   "metadata": {},
   "source": [
    "#### Matrix multiplication using torch"
   ]
  },
  {
   "cell_type": "code",
   "execution_count": 82,
   "metadata": {},
   "outputs": [
    {
     "data": {
      "text/plain": [
       "tensor([[1.2229, 1.1363, 0.6354],\n",
       "        [1.1363, 1.9491, 1.1760],\n",
       "        [0.6354, 1.1760, 1.0532]], device='cuda:0')"
      ]
     },
     "execution_count": 82,
     "metadata": {},
     "output_type": "execute_result"
    }
   ],
   "source": [
    "torch.matmul(my_tensor,my_tensor.T)"
   ]
  },
  {
   "cell_type": "markdown",
   "metadata": {},
   "source": [
    "#### Matrix multiplication \n",
    "- Using @ symbol"
   ]
  },
  {
   "cell_type": "code",
   "execution_count": 83,
   "metadata": {},
   "outputs": [
    {
     "data": {
      "text/plain": [
       "tensor([[1.2229, 1.1363, 0.6354],\n",
       "        [1.1363, 1.9491, 1.1760],\n",
       "        [0.6354, 1.1760, 1.0532]], device='cuda:0')"
      ]
     },
     "execution_count": 83,
     "metadata": {},
     "output_type": "execute_result"
    }
   ],
   "source": [
    "my_tensor@my_tensor.T"
   ]
  },
  {
   "cell_type": "markdown",
   "metadata": {},
   "source": [
    "#### Summation of tensor"
   ]
  },
  {
   "cell_type": "code",
   "execution_count": 84,
   "metadata": {},
   "outputs": [
    {
     "data": {
      "text/plain": [
       "tensor([1.9568, 2.6785, 1.5581], device='cuda:0')"
      ]
     },
     "execution_count": 84,
     "metadata": {},
     "output_type": "execute_result"
    }
   ],
   "source": [
    "my_tensor.sum(axis=1)"
   ]
  },
  {
   "cell_type": "markdown",
   "metadata": {},
   "source": [
    "#### Maximum and Minimum function"
   ]
  },
  {
   "cell_type": "code",
   "execution_count": 85,
   "metadata": {},
   "outputs": [
    {
     "data": {
      "text/plain": [
       "tensor(0.9610, device='cuda:0')"
      ]
     },
     "execution_count": 85,
     "metadata": {},
     "output_type": "execute_result"
    }
   ],
   "source": [
    "torch.max(my_tensor)"
   ]
  },
  {
   "cell_type": "code",
   "execution_count": 86,
   "metadata": {},
   "outputs": [
    {
     "data": {
      "text/plain": [
       "tensor(0.1145, device='cuda:0')"
      ]
     },
     "execution_count": 86,
     "metadata": {},
     "output_type": "execute_result"
    }
   ],
   "source": [
    "torch.min(my_tensor)"
   ]
  },
  {
   "cell_type": "markdown",
   "metadata": {},
   "source": [
    "#### Concatination of tensors\n",
    "- cat() function"
   ]
  },
  {
   "cell_type": "code",
   "execution_count": 87,
   "metadata": {},
   "outputs": [
    {
     "data": {
      "text/plain": [
       "tensor([[0.1145, 0.6827, 0.3909, 0.7687, 0.1145, 0.6827, 0.3909, 0.7687],\n",
       "        [0.8610, 0.6682, 0.7992, 0.3501, 0.8610, 0.6682, 0.7992, 0.3501],\n",
       "        [0.2820, 0.1723, 0.9610, 0.1428, 0.2820, 0.1723, 0.9610, 0.1428]],\n",
       "       device='cuda:0')"
      ]
     },
     "execution_count": 87,
     "metadata": {},
     "output_type": "execute_result"
    }
   ],
   "source": [
    "torch.cat([my_tensor,my_tensor],dim=1)"
   ]
  },
  {
   "cell_type": "markdown",
   "metadata": {},
   "source": [
    "#### Concatination using axis"
   ]
  },
  {
   "cell_type": "code",
   "execution_count": 88,
   "metadata": {},
   "outputs": [
    {
     "data": {
      "text/plain": [
       "tensor([[0.1145, 0.6827, 0.3909, 0.7687, 0.1145, 0.6827, 0.3909, 0.7687],\n",
       "        [0.8610, 0.6682, 0.7992, 0.3501, 0.8610, 0.6682, 0.7992, 0.3501],\n",
       "        [0.2820, 0.1723, 0.9610, 0.1428, 0.2820, 0.1723, 0.9610, 0.1428]],\n",
       "       device='cuda:0')"
      ]
     },
     "execution_count": 88,
     "metadata": {},
     "output_type": "execute_result"
    }
   ],
   "source": [
    "torch.cat([my_tensor,my_tensor],axis=1)"
   ]
  },
  {
   "cell_type": "markdown",
   "metadata": {},
   "source": [
    "#### Softmax function"
   ]
  },
  {
   "cell_type": "code",
   "execution_count": 89,
   "metadata": {},
   "outputs": [
    {
     "data": {
      "text/plain": [
       "tensor([[0.1665, 0.2938, 0.2195, 0.3202],\n",
       "        [0.2972, 0.2451, 0.2794, 0.1783],\n",
       "        [0.2111, 0.1891, 0.4162, 0.1836]], device='cuda:0')"
      ]
     },
     "execution_count": 89,
     "metadata": {},
     "output_type": "execute_result"
    }
   ],
   "source": [
    "torch.nn.functional.softmax(my_tensor,dim=1)"
   ]
  },
  {
   "cell_type": "markdown",
   "metadata": {},
   "source": [
    "- Shape and Size"
   ]
  },
  {
   "cell_type": "code",
   "execution_count": 90,
   "metadata": {},
   "outputs": [
    {
     "data": {
      "text/plain": [
       "torch.Size([3, 4])"
      ]
     },
     "execution_count": 90,
     "metadata": {},
     "output_type": "execute_result"
    }
   ],
   "source": [
    "my_tensor.shape"
   ]
  },
  {
   "cell_type": "code",
   "execution_count": 91,
   "metadata": {},
   "outputs": [
    {
     "data": {
      "text/plain": [
       "torch.Size([3, 4])"
      ]
     },
     "execution_count": 91,
     "metadata": {},
     "output_type": "execute_result"
    }
   ],
   "source": [
    "my_tensor.size()"
   ]
  },
  {
   "cell_type": "markdown",
   "metadata": {},
   "source": [
    "#### On image data\n",
    "- if we are working on image data.\n",
    "- 10 is the batch size\n",
    "- 3 are the  number of channels\n",
    "- 128,128 ia the image size"
   ]
  },
  {
   "cell_type": "code",
   "execution_count": 92,
   "metadata": {},
   "outputs": [
    {
     "data": {
      "text/plain": [
       "tensor([[[[0.2859, 0.1855, 0.4491,  ..., 0.0427, 0.4722, 0.4714],\n",
       "          [0.8715, 0.3297, 0.5384,  ..., 0.2540, 0.6599, 0.3112],\n",
       "          [0.0024, 0.4924, 0.1481,  ..., 0.8874, 0.4576, 0.0802],\n",
       "          ...,\n",
       "          [0.3730, 0.6092, 0.1680,  ..., 0.4280, 0.0852, 0.5600],\n",
       "          [0.9537, 0.0891, 0.4359,  ..., 0.7723, 0.7923, 0.4384],\n",
       "          [0.3018, 0.2031, 0.0664,  ..., 0.4837, 0.7068, 0.0056]],\n",
       "\n",
       "         [[0.5452, 0.9576, 0.9823,  ..., 0.7116, 0.6716, 0.7796],\n",
       "          [0.8957, 0.7606, 0.5818,  ..., 0.3894, 0.7071, 0.9698],\n",
       "          [0.4358, 0.9568, 0.6260,  ..., 0.6881, 0.5226, 0.1639],\n",
       "          ...,\n",
       "          [0.1988, 0.3897, 0.9187,  ..., 0.8355, 0.4043, 0.8135],\n",
       "          [0.2886, 0.2787, 0.6188,  ..., 0.7378, 0.7563, 0.1563],\n",
       "          [0.7220, 0.8055, 0.3477,  ..., 0.0027, 0.5983, 0.8316]],\n",
       "\n",
       "         [[0.8162, 0.3499, 0.3069,  ..., 0.5695, 0.1427, 0.8866],\n",
       "          [0.0645, 0.1824, 0.0670,  ..., 0.3150, 0.9921, 0.7869],\n",
       "          [0.4681, 0.3747, 0.9601,  ..., 0.2458, 0.7704, 0.1899],\n",
       "          ...,\n",
       "          [0.4680, 0.2465, 0.5418,  ..., 0.4153, 0.9422, 0.5314],\n",
       "          [0.8957, 0.0915, 0.5175,  ..., 0.6943, 0.8974, 0.1442],\n",
       "          [0.3734, 0.8001, 0.7462,  ..., 0.7264, 0.3945, 0.5899]]],\n",
       "\n",
       "\n",
       "        [[[0.3529, 0.5372, 0.0904,  ..., 0.7171, 0.1121, 0.6602],\n",
       "          [0.1784, 0.2358, 0.6189,  ..., 0.7572, 0.7803, 0.5357],\n",
       "          [0.4917, 0.8127, 0.0620,  ..., 0.4993, 0.0040, 0.8993],\n",
       "          ...,\n",
       "          [0.6211, 0.2337, 0.5475,  ..., 0.7632, 0.6712, 0.4831],\n",
       "          [0.6289, 0.7430, 0.3657,  ..., 0.3794, 0.1537, 0.3634],\n",
       "          [0.7951, 0.0065, 0.3807,  ..., 0.5905, 0.4717, 0.8275]],\n",
       "\n",
       "         [[0.7155, 0.2185, 0.3699,  ..., 0.2784, 0.9892, 0.1811],\n",
       "          [0.0851, 0.5066, 0.5794,  ..., 0.7759, 0.7566, 0.0693],\n",
       "          [0.9869, 0.4142, 0.7840,  ..., 0.4134, 0.1323, 0.2201],\n",
       "          ...,\n",
       "          [0.0332, 0.8159, 0.6243,  ..., 0.3692, 0.9465, 0.6180],\n",
       "          [0.9873, 0.1153, 0.7440,  ..., 0.0843, 0.3946, 0.4882],\n",
       "          [0.0306, 0.8526, 0.5275,  ..., 0.5842, 0.1182, 0.2933]],\n",
       "\n",
       "         [[0.8732, 0.9779, 0.1592,  ..., 0.6982, 0.1401, 0.8591],\n",
       "          [0.1928, 0.1872, 0.7310,  ..., 0.4867, 0.3106, 0.8063],\n",
       "          [0.1546, 0.4807, 0.3974,  ..., 0.9927, 0.3830, 0.4249],\n",
       "          ...,\n",
       "          [0.9025, 0.9910, 0.6991,  ..., 0.3081, 0.9274, 0.6204],\n",
       "          [0.3810, 0.0938, 0.5790,  ..., 0.1179, 0.5428, 0.1434],\n",
       "          [0.5527, 0.3575, 0.2456,  ..., 0.9685, 0.7166, 0.3014]]],\n",
       "\n",
       "\n",
       "        [[[0.0759, 0.7897, 0.5341,  ..., 0.2740, 0.2342, 0.4043],\n",
       "          [0.9466, 0.6362, 0.1083,  ..., 0.5718, 0.5359, 0.9736],\n",
       "          [0.7860, 0.5405, 0.1883,  ..., 0.4611, 0.7857, 0.5056],\n",
       "          ...,\n",
       "          [0.0554, 0.2539, 0.6818,  ..., 0.8147, 0.7748, 0.1238],\n",
       "          [0.5439, 0.3690, 0.3378,  ..., 0.4678, 0.5979, 0.1815],\n",
       "          [0.5413, 0.6455, 0.5307,  ..., 0.9731, 0.7340, 0.8130]],\n",
       "\n",
       "         [[0.3737, 0.4797, 0.7274,  ..., 0.8587, 0.9048, 0.5464],\n",
       "          [0.4057, 0.7252, 0.5220,  ..., 0.9620, 0.4996, 0.6386],\n",
       "          [0.1203, 0.8575, 0.8186,  ..., 0.0791, 0.7473, 0.0808],\n",
       "          ...,\n",
       "          [0.9353, 0.1194, 0.7215,  ..., 0.3308, 0.6802, 0.5167],\n",
       "          [0.2902, 0.7760, 0.3602,  ..., 0.5897, 0.0432, 0.4800],\n",
       "          [0.8948, 0.3859, 0.8253,  ..., 0.1115, 0.7552, 0.0206]],\n",
       "\n",
       "         [[0.6108, 0.3231, 0.5736,  ..., 0.1281, 0.2230, 0.0937],\n",
       "          [0.9730, 0.6939, 0.5382,  ..., 0.6696, 0.2204, 0.1482],\n",
       "          [0.9420, 0.7972, 0.5642,  ..., 0.4709, 0.4840, 0.3290],\n",
       "          ...,\n",
       "          [0.2053, 0.4876, 0.7382,  ..., 0.4241, 0.6492, 0.1110],\n",
       "          [0.8410, 0.7914, 0.8550,  ..., 0.1595, 0.8592, 0.8139],\n",
       "          [0.9340, 0.9857, 0.2594,  ..., 0.7047, 0.4970, 0.3425]]],\n",
       "\n",
       "\n",
       "        ...,\n",
       "\n",
       "\n",
       "        [[[0.8442, 0.6323, 0.2611,  ..., 0.5517, 0.5443, 0.1789],\n",
       "          [0.3183, 0.5777, 0.6201,  ..., 0.8280, 0.1354, 0.7830],\n",
       "          [0.3265, 0.2031, 0.2748,  ..., 0.4828, 0.5962, 0.9323],\n",
       "          ...,\n",
       "          [0.4508, 0.5584, 0.0424,  ..., 0.2542, 0.0946, 0.5469],\n",
       "          [0.9874, 0.8164, 0.6998,  ..., 0.4369, 0.3846, 0.5600],\n",
       "          [0.0517, 0.1420, 0.6857,  ..., 0.7953, 0.1105, 0.7325]],\n",
       "\n",
       "         [[0.1492, 0.1875, 0.1489,  ..., 0.9646, 0.3019, 0.9659],\n",
       "          [0.0410, 0.1265, 0.1832,  ..., 0.5905, 0.6038, 0.3652],\n",
       "          [0.0882, 0.5528, 0.9640,  ..., 0.1989, 0.2686, 0.0730],\n",
       "          ...,\n",
       "          [0.8663, 0.8423, 0.6304,  ..., 0.2076, 0.8885, 0.9233],\n",
       "          [0.2367, 0.6463, 0.2194,  ..., 0.8860, 0.6861, 0.3915],\n",
       "          [0.9171, 0.2116, 0.9528,  ..., 0.1116, 0.0332, 0.7916]],\n",
       "\n",
       "         [[0.6875, 0.4489, 0.2030,  ..., 0.1235, 0.4817, 0.4221],\n",
       "          [0.2649, 0.7674, 0.6556,  ..., 0.7230, 0.3492, 0.7025],\n",
       "          [0.0236, 0.6358, 0.0478,  ..., 0.3659, 0.5489, 0.2696],\n",
       "          ...,\n",
       "          [0.4670, 0.4046, 0.1463,  ..., 0.4857, 0.6845, 0.7838],\n",
       "          [0.7340, 0.5972, 0.3953,  ..., 0.7861, 0.0153, 0.5631],\n",
       "          [0.3884, 0.9663, 0.6333,  ..., 0.3240, 0.2354, 0.6096]]],\n",
       "\n",
       "\n",
       "        [[[0.8568, 0.3802, 0.3303,  ..., 0.3084, 0.4924, 0.5571],\n",
       "          [0.5104, 0.5365, 0.0229,  ..., 0.2118, 0.8849, 0.5721],\n",
       "          [0.5986, 0.6551, 0.5421,  ..., 0.4809, 0.4698, 0.9648],\n",
       "          ...,\n",
       "          [0.6264, 0.0586, 0.3176,  ..., 0.1939, 0.8066, 0.9591],\n",
       "          [0.7068, 0.4969, 0.3937,  ..., 0.8336, 0.6556, 0.1669],\n",
       "          [0.3498, 0.4255, 0.7836,  ..., 0.4086, 0.7627, 0.0084]],\n",
       "\n",
       "         [[0.8612, 0.4734, 0.7799,  ..., 0.8521, 0.0358, 0.1991],\n",
       "          [0.7679, 0.6385, 0.3670,  ..., 0.7894, 0.6690, 0.4328],\n",
       "          [0.1184, 0.7388, 0.1958,  ..., 0.6796, 0.4297, 0.9085],\n",
       "          ...,\n",
       "          [0.8462, 0.4769, 0.0420,  ..., 0.8070, 0.8396, 0.6756],\n",
       "          [0.6194, 0.6647, 0.5961,  ..., 0.5113, 0.5174, 0.3144],\n",
       "          [0.7041, 0.8633, 0.3602,  ..., 0.8555, 0.8144, 0.3664]],\n",
       "\n",
       "         [[0.8820, 0.1556, 0.9950,  ..., 0.3166, 0.2229, 0.0991],\n",
       "          [0.5340, 0.4424, 0.8489,  ..., 0.1784, 0.1361, 0.0224],\n",
       "          [0.1694, 0.3026, 0.1948,  ..., 0.0530, 0.0729, 0.8882],\n",
       "          ...,\n",
       "          [0.5798, 0.6518, 0.8317,  ..., 0.8513, 0.0703, 0.1205],\n",
       "          [0.5019, 0.9263, 0.2533,  ..., 0.4703, 0.3440, 0.9747],\n",
       "          [0.2314, 0.7446, 0.9278,  ..., 0.6010, 0.8996, 0.7684]]],\n",
       "\n",
       "\n",
       "        [[[0.7748, 0.6559, 0.0508,  ..., 0.9728, 0.5294, 0.2435],\n",
       "          [0.2663, 0.8885, 0.8444,  ..., 0.6791, 0.8200, 0.1311],\n",
       "          [0.2473, 0.6591, 0.1114,  ..., 0.1453, 0.3907, 0.0526],\n",
       "          ...,\n",
       "          [0.4388, 0.2965, 0.8681,  ..., 0.0794, 0.0642, 0.6798],\n",
       "          [0.8415, 0.8949, 0.2932,  ..., 0.0470, 0.5125, 0.1047],\n",
       "          [0.5532, 0.4874, 0.4041,  ..., 0.9057, 0.6673, 0.4934]],\n",
       "\n",
       "         [[0.1486, 0.1880, 0.9101,  ..., 0.6065, 0.9440, 0.8871],\n",
       "          [0.6975, 0.1772, 0.1895,  ..., 0.5895, 0.8232, 0.6223],\n",
       "          [0.4026, 0.7004, 0.0114,  ..., 0.4573, 0.6785, 0.6035],\n",
       "          ...,\n",
       "          [0.5801, 0.4013, 0.8207,  ..., 0.6836, 0.8173, 0.2234],\n",
       "          [0.6972, 0.0586, 0.4212,  ..., 0.6612, 0.5831, 0.3505],\n",
       "          [0.6946, 0.1432, 0.3273,  ..., 0.8656, 0.9384, 0.1297]],\n",
       "\n",
       "         [[0.4914, 0.8600, 0.2627,  ..., 0.4578, 0.6360, 0.7401],\n",
       "          [0.6201, 0.1198, 0.7315,  ..., 0.1122, 0.1695, 0.7777],\n",
       "          [0.3017, 0.1546, 0.6228,  ..., 0.6048, 0.4906, 0.9503],\n",
       "          ...,\n",
       "          [0.5686, 0.2765, 0.3851,  ..., 0.8651, 0.1213, 0.9707],\n",
       "          [0.2480, 0.7356, 0.7802,  ..., 0.8865, 0.8770, 0.1304],\n",
       "          [0.9558, 0.4758, 0.8321,  ..., 0.7671, 0.7976, 0.6851]]]])"
      ]
     },
     "execution_count": 92,
     "metadata": {},
     "output_type": "execute_result"
    }
   ],
   "source": [
    "torch.rand(10,3,128,128)"
   ]
  },
  {
   "cell_type": "markdown",
   "metadata": {},
   "source": [
    "#### Check size\n",
    "- size()"
   ]
  },
  {
   "cell_type": "code",
   "execution_count": 93,
   "metadata": {},
   "outputs": [
    {
     "data": {
      "text/plain": [
       "torch.Size([10, 3, 128, 128])"
      ]
     },
     "execution_count": 93,
     "metadata": {},
     "output_type": "execute_result"
    }
   ],
   "source": [
    "torch.rand(10,3,128,128).size()"
   ]
  },
  {
   "cell_type": "code",
   "execution_count": 94,
   "metadata": {},
   "outputs": [
    {
     "data": {
      "text/plain": [
       "tensor([[0.1145, 0.6827, 0.3909, 0.7687],\n",
       "        [0.8610, 0.6682, 0.7992, 0.3501],\n",
       "        [0.2820, 0.1723, 0.9610, 0.1428]], device='cuda:0')"
      ]
     },
     "execution_count": 94,
     "metadata": {},
     "output_type": "execute_result"
    }
   ],
   "source": [
    "my_tensor"
   ]
  },
  {
   "cell_type": "markdown",
   "metadata": {},
   "source": [
    "#### Clip function\n",
    "- minmum and maximum"
   ]
  },
  {
   "cell_type": "code",
   "execution_count": 95,
   "metadata": {},
   "outputs": [
    {
     "data": {
      "text/plain": [
       "tensor([[0.2000, 0.6827, 0.3909, 0.7687],\n",
       "        [0.8000, 0.6682, 0.7992, 0.3501],\n",
       "        [0.2820, 0.2000, 0.8000, 0.2000]], device='cuda:0')"
      ]
     },
     "execution_count": 95,
     "metadata": {},
     "output_type": "execute_result"
    }
   ],
   "source": [
    "my_tensor.clip(0.2,0.8)"
   ]
  },
  {
   "cell_type": "markdown",
   "metadata": {},
   "source": [
    "#### Tensor to np.array "
   ]
  },
  {
   "cell_type": "code",
   "execution_count": 96,
   "metadata": {},
   "outputs": [
    {
     "data": {
      "text/plain": [
       "array([[0.11448944, 0.68272716, 0.39088625, 0.7686735 ],\n",
       "       [0.86097383, 0.6682273 , 0.79916936, 0.35013372],\n",
       "       [0.28200096, 0.17234963, 0.96100706, 0.14278954]], dtype=float32)"
      ]
     },
     "execution_count": 96,
     "metadata": {},
     "output_type": "execute_result"
    }
   ],
   "source": [
    "my_tensor.cpu().detach().numpy()"
   ]
  },
  {
   "cell_type": "code",
   "execution_count": null,
   "metadata": {},
   "outputs": [],
   "source": []
  }
 ],
 "metadata": {
  "kernelspec": {
   "display_name": "Python 3",
   "language": "python",
   "name": "python3"
  },
  "language_info": {
   "codemirror_mode": {
    "name": "ipython",
    "version": 3
   },
   "file_extension": ".py",
   "mimetype": "text/x-python",
   "name": "python",
   "nbconvert_exporter": "python",
   "pygments_lexer": "ipython3",
   "version": "3.8.3"
  }
 },
 "nbformat": 4,
 "nbformat_minor": 4
}
